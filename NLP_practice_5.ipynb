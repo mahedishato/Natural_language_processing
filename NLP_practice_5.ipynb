{
  "nbformat": 4,
  "nbformat_minor": 0,
  "metadata": {
    "colab": {
      "provenance": [],
      "authorship_tag": "ABX9TyP9DD0H80m9zyLO6RBEG2as",
      "include_colab_link": true
    },
    "kernelspec": {
      "name": "python3",
      "display_name": "Python 3"
    },
    "language_info": {
      "name": "python"
    },
    "accelerator": "GPU",
    "gpuClass": "standard"
  },
  "cells": [
    {
      "cell_type": "markdown",
      "metadata": {
        "id": "view-in-github",
        "colab_type": "text"
      },
      "source": [
        "<a href=\"https://colab.research.google.com/github/mahedishato/Natural_language_processing/blob/main/NLP_practice_5.ipynb\" target=\"_parent\"><img src=\"https://colab.research.google.com/assets/colab-badge.svg\" alt=\"Open In Colab\"/></a>"
      ]
    },
    {
      "cell_type": "code",
      "execution_count": 43,
      "metadata": {
        "colab": {
          "base_uri": "https://localhost:8080/"
        },
        "id": "XskH3HoX1qVP",
        "outputId": "6477c7e3-5cc2-4a27-e6e4-5d26fce01203"
      },
      "outputs": [
        {
          "output_type": "stream",
          "name": "stdout",
          "text": [
            "Looking in indexes: https://pypi.org/simple, https://us-python.pkg.dev/colab-wheels/public/simple/\n",
            "Requirement already satisfied: tensorflow-gpu in /usr/local/lib/python3.7/dist-packages (2.11.0)\n",
            "Requirement already satisfied: typing-extensions>=3.6.6 in /usr/local/lib/python3.7/dist-packages (from tensorflow-gpu) (4.1.1)\n",
            "Requirement already satisfied: opt-einsum>=2.3.2 in /usr/local/lib/python3.7/dist-packages (from tensorflow-gpu) (3.3.0)\n",
            "Requirement already satisfied: tensorflow-io-gcs-filesystem>=0.23.1 in /usr/local/lib/python3.7/dist-packages (from tensorflow-gpu) (0.27.0)\n",
            "Requirement already satisfied: tensorflow-estimator<2.12,>=2.11.0 in /usr/local/lib/python3.7/dist-packages (from tensorflow-gpu) (2.11.0)\n",
            "Requirement already satisfied: gast<=0.4.0,>=0.2.1 in /usr/local/lib/python3.7/dist-packages (from tensorflow-gpu) (0.4.0)\n",
            "Requirement already satisfied: google-pasta>=0.1.1 in /usr/local/lib/python3.7/dist-packages (from tensorflow-gpu) (0.2.0)\n",
            "Requirement already satisfied: h5py>=2.9.0 in /usr/local/lib/python3.7/dist-packages (from tensorflow-gpu) (3.1.0)\n",
            "Requirement already satisfied: tensorboard<2.12,>=2.11 in /usr/local/lib/python3.7/dist-packages (from tensorflow-gpu) (2.11.0)\n",
            "Requirement already satisfied: six>=1.12.0 in /usr/local/lib/python3.7/dist-packages (from tensorflow-gpu) (1.15.0)\n",
            "Requirement already satisfied: termcolor>=1.1.0 in /usr/local/lib/python3.7/dist-packages (from tensorflow-gpu) (2.1.0)\n",
            "Requirement already satisfied: absl-py>=1.0.0 in /usr/local/lib/python3.7/dist-packages (from tensorflow-gpu) (1.3.0)\n",
            "Requirement already satisfied: protobuf<3.20,>=3.9.2 in /usr/local/lib/python3.7/dist-packages (from tensorflow-gpu) (3.19.6)\n",
            "Requirement already satisfied: numpy>=1.20 in /usr/local/lib/python3.7/dist-packages (from tensorflow-gpu) (1.21.6)\n",
            "Requirement already satisfied: grpcio<2.0,>=1.24.3 in /usr/local/lib/python3.7/dist-packages (from tensorflow-gpu) (1.50.0)\n",
            "Requirement already satisfied: keras<2.12,>=2.11.0 in /usr/local/lib/python3.7/dist-packages (from tensorflow-gpu) (2.11.0)\n",
            "Requirement already satisfied: astunparse>=1.6.0 in /usr/local/lib/python3.7/dist-packages (from tensorflow-gpu) (1.6.3)\n",
            "Requirement already satisfied: libclang>=13.0.0 in /usr/local/lib/python3.7/dist-packages (from tensorflow-gpu) (14.0.6)\n",
            "Requirement already satisfied: setuptools in /usr/local/lib/python3.7/dist-packages (from tensorflow-gpu) (57.4.0)\n",
            "Requirement already satisfied: flatbuffers>=2.0 in /usr/local/lib/python3.7/dist-packages (from tensorflow-gpu) (22.10.26)\n",
            "Requirement already satisfied: wrapt>=1.11.0 in /usr/local/lib/python3.7/dist-packages (from tensorflow-gpu) (1.14.1)\n",
            "Requirement already satisfied: packaging in /usr/local/lib/python3.7/dist-packages (from tensorflow-gpu) (21.3)\n",
            "Requirement already satisfied: wheel<1.0,>=0.23.0 in /usr/local/lib/python3.7/dist-packages (from astunparse>=1.6.0->tensorflow-gpu) (0.38.4)\n",
            "Requirement already satisfied: cached-property in /usr/local/lib/python3.7/dist-packages (from h5py>=2.9.0->tensorflow-gpu) (1.5.2)\n",
            "Requirement already satisfied: markdown>=2.6.8 in /usr/local/lib/python3.7/dist-packages (from tensorboard<2.12,>=2.11->tensorflow-gpu) (3.4.1)\n",
            "Requirement already satisfied: tensorboard-data-server<0.7.0,>=0.6.0 in /usr/local/lib/python3.7/dist-packages (from tensorboard<2.12,>=2.11->tensorflow-gpu) (0.6.1)\n",
            "Requirement already satisfied: requests<3,>=2.21.0 in /usr/local/lib/python3.7/dist-packages (from tensorboard<2.12,>=2.11->tensorflow-gpu) (2.23.0)\n",
            "Requirement already satisfied: google-auth-oauthlib<0.5,>=0.4.1 in /usr/local/lib/python3.7/dist-packages (from tensorboard<2.12,>=2.11->tensorflow-gpu) (0.4.6)\n",
            "Requirement already satisfied: werkzeug>=1.0.1 in /usr/local/lib/python3.7/dist-packages (from tensorboard<2.12,>=2.11->tensorflow-gpu) (1.0.1)\n",
            "Requirement already satisfied: google-auth<3,>=1.6.3 in /usr/local/lib/python3.7/dist-packages (from tensorboard<2.12,>=2.11->tensorflow-gpu) (2.14.1)\n",
            "Requirement already satisfied: tensorboard-plugin-wit>=1.6.0 in /usr/local/lib/python3.7/dist-packages (from tensorboard<2.12,>=2.11->tensorflow-gpu) (1.8.1)\n",
            "Requirement already satisfied: cachetools<6.0,>=2.0.0 in /usr/local/lib/python3.7/dist-packages (from google-auth<3,>=1.6.3->tensorboard<2.12,>=2.11->tensorflow-gpu) (5.2.0)\n",
            "Requirement already satisfied: rsa<5,>=3.1.4 in /usr/local/lib/python3.7/dist-packages (from google-auth<3,>=1.6.3->tensorboard<2.12,>=2.11->tensorflow-gpu) (4.9)\n",
            "Requirement already satisfied: pyasn1-modules>=0.2.1 in /usr/local/lib/python3.7/dist-packages (from google-auth<3,>=1.6.3->tensorboard<2.12,>=2.11->tensorflow-gpu) (0.2.8)\n",
            "Requirement already satisfied: requests-oauthlib>=0.7.0 in /usr/local/lib/python3.7/dist-packages (from google-auth-oauthlib<0.5,>=0.4.1->tensorboard<2.12,>=2.11->tensorflow-gpu) (1.3.1)\n",
            "Requirement already satisfied: importlib-metadata>=4.4 in /usr/local/lib/python3.7/dist-packages (from markdown>=2.6.8->tensorboard<2.12,>=2.11->tensorflow-gpu) (4.13.0)\n",
            "Requirement already satisfied: zipp>=0.5 in /usr/local/lib/python3.7/dist-packages (from importlib-metadata>=4.4->markdown>=2.6.8->tensorboard<2.12,>=2.11->tensorflow-gpu) (3.10.0)\n",
            "Requirement already satisfied: pyasn1<0.5.0,>=0.4.6 in /usr/local/lib/python3.7/dist-packages (from pyasn1-modules>=0.2.1->google-auth<3,>=1.6.3->tensorboard<2.12,>=2.11->tensorflow-gpu) (0.4.8)\n",
            "Requirement already satisfied: urllib3!=1.25.0,!=1.25.1,<1.26,>=1.21.1 in /usr/local/lib/python3.7/dist-packages (from requests<3,>=2.21.0->tensorboard<2.12,>=2.11->tensorflow-gpu) (1.24.3)\n",
            "Requirement already satisfied: certifi>=2017.4.17 in /usr/local/lib/python3.7/dist-packages (from requests<3,>=2.21.0->tensorboard<2.12,>=2.11->tensorflow-gpu) (2022.9.24)\n",
            "Requirement already satisfied: chardet<4,>=3.0.2 in /usr/local/lib/python3.7/dist-packages (from requests<3,>=2.21.0->tensorboard<2.12,>=2.11->tensorflow-gpu) (3.0.4)\n",
            "Requirement already satisfied: idna<3,>=2.5 in /usr/local/lib/python3.7/dist-packages (from requests<3,>=2.21.0->tensorboard<2.12,>=2.11->tensorflow-gpu) (2.10)\n",
            "Requirement already satisfied: oauthlib>=3.0.0 in /usr/local/lib/python3.7/dist-packages (from requests-oauthlib>=0.7.0->google-auth-oauthlib<0.5,>=0.4.1->tensorboard<2.12,>=2.11->tensorflow-gpu) (3.2.2)\n",
            "Requirement already satisfied: pyparsing!=3.0.5,>=2.0.2 in /usr/local/lib/python3.7/dist-packages (from packaging->tensorflow-gpu) (3.0.9)\n"
          ]
        }
      ],
      "source": [
        "!pip install tensorflow-gpu"
      ]
    },
    {
      "cell_type": "code",
      "source": [
        "import tensorflow as tf\n",
        "print(tf.__version__)"
      ],
      "metadata": {
        "colab": {
          "base_uri": "https://localhost:8080/"
        },
        "id": "pZNNVMG63dU-",
        "outputId": "91951a7c-4a35-43c2-e877-8ab507e93851"
      },
      "execution_count": 44,
      "outputs": [
        {
          "output_type": "stream",
          "name": "stdout",
          "text": [
            "2.11.0\n"
          ]
        }
      ]
    },
    {
      "cell_type": "code",
      "source": [
        "from tensorflow.keras.preprocessing.text import one_hot"
      ],
      "metadata": {
        "id": "NSkQ2VcP3v--"
      },
      "execution_count": 45,
      "outputs": []
    },
    {
      "cell_type": "code",
      "source": [
        "### sentences\n",
        "sent=[  'the glass of milk',\n",
        "     'the glass of juice',\n",
        "     'the cup of tea',\n",
        "    'I am a good boy',\n",
        "     'I am a good developer',\n",
        "     'understand the meaning of words',\n",
        "     'your videos are good']"
      ],
      "metadata": {
        "id": "E1Xqy0yN4Cjk"
      },
      "execution_count": 46,
      "outputs": []
    },
    {
      "cell_type": "code",
      "source": [
        "sent"
      ],
      "metadata": {
        "colab": {
          "base_uri": "https://localhost:8080/"
        },
        "id": "NrTpm9pm4NCE",
        "outputId": "25cb72f1-a566-4e12-ce8e-76cb02510156"
      },
      "execution_count": 47,
      "outputs": [
        {
          "output_type": "execute_result",
          "data": {
            "text/plain": [
              "['the glass of milk',\n",
              " 'the glass of juice',\n",
              " 'the cup of tea',\n",
              " 'I am a good boy',\n",
              " 'I am a good developer',\n",
              " 'understand the meaning of words',\n",
              " 'your videos are good']"
            ]
          },
          "metadata": {},
          "execution_count": 47
        }
      ]
    },
    {
      "cell_type": "code",
      "source": [
        "voc_size = 22"
      ],
      "metadata": {
        "id": "RWC-zqy44YGk"
      },
      "execution_count": 48,
      "outputs": []
    },
    {
      "cell_type": "code",
      "source": [
        " one_hot= [one_hot(words,voc_size)for words in sent]"
      ],
      "metadata": {
        "id": "DvCyx5gq4lWs"
      },
      "execution_count": 49,
      "outputs": []
    },
    {
      "cell_type": "code",
      "source": [
        "one_hot"
      ],
      "metadata": {
        "colab": {
          "base_uri": "https://localhost:8080/"
        },
        "id": "_3SAllrD5RrL",
        "outputId": "03fb4342-c51a-4a49-8872-fa79a864474c"
      },
      "execution_count": 50,
      "outputs": [
        {
          "output_type": "execute_result",
          "data": {
            "text/plain": [
              "[[14, 9, 6, 14],\n",
              " [14, 9, 6, 3],\n",
              " [14, 3, 6, 6],\n",
              " [15, 13, 12, 9, 5],\n",
              " [15, 13, 12, 9, 1],\n",
              " [14, 14, 7, 6, 12],\n",
              " [11, 21, 12, 9]]"
            ]
          },
          "metadata": {},
          "execution_count": 50
        }
      ]
    },
    {
      "cell_type": "code",
      "source": [
        "from tensorflow.keras.layers import Embedding\n",
        "from tensorflow.keras.preprocessing.sequence import pad_sequences\n",
        "from tensorflow.keras.models import Sequential\n",
        "import numpy as np"
      ],
      "metadata": {
        "id": "lKq9QIo65TeM"
      },
      "execution_count": 51,
      "outputs": []
    },
    {
      "cell_type": "code",
      "source": [
        "sent_len = 10\n",
        "embedded_docs = pad_sequences(one_hot,maxlen=sent_len,padding='pre')"
      ],
      "metadata": {
        "id": "Ixg6ck9G7uSS"
      },
      "execution_count": 52,
      "outputs": []
    },
    {
      "cell_type": "code",
      "source": [
        "embedded_docs"
      ],
      "metadata": {
        "colab": {
          "base_uri": "https://localhost:8080/"
        },
        "id": "ZHs-bVLM9AtZ",
        "outputId": "7283fe42-2c28-47f5-fdb0-67d849667f5e"
      },
      "execution_count": 53,
      "outputs": [
        {
          "output_type": "execute_result",
          "data": {
            "text/plain": [
              "array([[ 0,  0,  0,  0,  0,  0, 14,  9,  6, 14],\n",
              "       [ 0,  0,  0,  0,  0,  0, 14,  9,  6,  3],\n",
              "       [ 0,  0,  0,  0,  0,  0, 14,  3,  6,  6],\n",
              "       [ 0,  0,  0,  0,  0, 15, 13, 12,  9,  5],\n",
              "       [ 0,  0,  0,  0,  0, 15, 13, 12,  9,  1],\n",
              "       [ 0,  0,  0,  0,  0, 14, 14,  7,  6, 12],\n",
              "       [ 0,  0,  0,  0,  0,  0, 11, 21, 12,  9]], dtype=int32)"
            ]
          },
          "metadata": {},
          "execution_count": 53
        }
      ]
    },
    {
      "cell_type": "code",
      "source": [
        "model= Sequential()"
      ],
      "metadata": {
        "id": "uE00RPrT9JY5"
      },
      "execution_count": 54,
      "outputs": []
    },
    {
      "cell_type": "code",
      "source": [
        "model.add(Embedding(22,10,input_length=sent_len))\n",
        "model.compile('adam', 'mse')"
      ],
      "metadata": {
        "id": "PSUR1vej-vNP"
      },
      "execution_count": 55,
      "outputs": []
    },
    {
      "cell_type": "code",
      "source": [
        "model.summary()"
      ],
      "metadata": {
        "colab": {
          "base_uri": "https://localhost:8080/"
        },
        "id": "VK0tGX9GCOH2",
        "outputId": "50830475-5937-47bf-9260-c52e893b1730"
      },
      "execution_count": 56,
      "outputs": [
        {
          "output_type": "stream",
          "name": "stdout",
          "text": [
            "Model: \"sequential_1\"\n",
            "_________________________________________________________________\n",
            " Layer (type)                Output Shape              Param #   \n",
            "=================================================================\n",
            " embedding_3 (Embedding)     (None, 10, 10)            220       \n",
            "                                                                 \n",
            "=================================================================\n",
            "Total params: 220\n",
            "Trainable params: 220\n",
            "Non-trainable params: 0\n",
            "_________________________________________________________________\n"
          ]
        }
      ]
    },
    {
      "cell_type": "code",
      "source": [
        "model.predict(embedded_docs)"
      ],
      "metadata": {
        "colab": {
          "base_uri": "https://localhost:8080/"
        },
        "id": "-Zj8vo02CPe-",
        "outputId": "8ff9dd7d-dda5-48cc-a7c9-faa29673a090"
      },
      "execution_count": 57,
      "outputs": [
        {
          "output_type": "stream",
          "name": "stdout",
          "text": [
            "1/1 [==============================] - 0s 70ms/step\n"
          ]
        },
        {
          "output_type": "execute_result",
          "data": {
            "text/plain": [
              "array([[[ 0.01865378, -0.01250862, -0.04433106, -0.03098797,\n",
              "         -0.02499311, -0.0359871 ,  0.01182093,  0.02826465,\n",
              "          0.00845452,  0.00490402],\n",
              "        [ 0.01865378, -0.01250862, -0.04433106, -0.03098797,\n",
              "         -0.02499311, -0.0359871 ,  0.01182093,  0.02826465,\n",
              "          0.00845452,  0.00490402],\n",
              "        [ 0.01865378, -0.01250862, -0.04433106, -0.03098797,\n",
              "         -0.02499311, -0.0359871 ,  0.01182093,  0.02826465,\n",
              "          0.00845452,  0.00490402],\n",
              "        [ 0.01865378, -0.01250862, -0.04433106, -0.03098797,\n",
              "         -0.02499311, -0.0359871 ,  0.01182093,  0.02826465,\n",
              "          0.00845452,  0.00490402],\n",
              "        [ 0.01865378, -0.01250862, -0.04433106, -0.03098797,\n",
              "         -0.02499311, -0.0359871 ,  0.01182093,  0.02826465,\n",
              "          0.00845452,  0.00490402],\n",
              "        [ 0.01865378, -0.01250862, -0.04433106, -0.03098797,\n",
              "         -0.02499311, -0.0359871 ,  0.01182093,  0.02826465,\n",
              "          0.00845452,  0.00490402],\n",
              "        [-0.02507961,  0.00224849, -0.02595519,  0.0127015 ,\n",
              "          0.0029764 ,  0.00337465, -0.01710813,  0.04771943,\n",
              "         -0.04622346,  0.02736845],\n",
              "        [ 0.00870012,  0.03316471, -0.00209368, -0.01787933,\n",
              "         -0.01993479,  0.03742709,  0.04635158, -0.03371916,\n",
              "          0.01652011, -0.02603432],\n",
              "        [-0.04232537,  0.01262161,  0.03371282, -0.02273496,\n",
              "          0.00209273,  0.03537599, -0.03555327,  0.0016262 ,\n",
              "          0.03883107,  0.04618318],\n",
              "        [-0.02507961,  0.00224849, -0.02595519,  0.0127015 ,\n",
              "          0.0029764 ,  0.00337465, -0.01710813,  0.04771943,\n",
              "         -0.04622346,  0.02736845]],\n",
              "\n",
              "       [[ 0.01865378, -0.01250862, -0.04433106, -0.03098797,\n",
              "         -0.02499311, -0.0359871 ,  0.01182093,  0.02826465,\n",
              "          0.00845452,  0.00490402],\n",
              "        [ 0.01865378, -0.01250862, -0.04433106, -0.03098797,\n",
              "         -0.02499311, -0.0359871 ,  0.01182093,  0.02826465,\n",
              "          0.00845452,  0.00490402],\n",
              "        [ 0.01865378, -0.01250862, -0.04433106, -0.03098797,\n",
              "         -0.02499311, -0.0359871 ,  0.01182093,  0.02826465,\n",
              "          0.00845452,  0.00490402],\n",
              "        [ 0.01865378, -0.01250862, -0.04433106, -0.03098797,\n",
              "         -0.02499311, -0.0359871 ,  0.01182093,  0.02826465,\n",
              "          0.00845452,  0.00490402],\n",
              "        [ 0.01865378, -0.01250862, -0.04433106, -0.03098797,\n",
              "         -0.02499311, -0.0359871 ,  0.01182093,  0.02826465,\n",
              "          0.00845452,  0.00490402],\n",
              "        [ 0.01865378, -0.01250862, -0.04433106, -0.03098797,\n",
              "         -0.02499311, -0.0359871 ,  0.01182093,  0.02826465,\n",
              "          0.00845452,  0.00490402],\n",
              "        [-0.02507961,  0.00224849, -0.02595519,  0.0127015 ,\n",
              "          0.0029764 ,  0.00337465, -0.01710813,  0.04771943,\n",
              "         -0.04622346,  0.02736845],\n",
              "        [ 0.00870012,  0.03316471, -0.00209368, -0.01787933,\n",
              "         -0.01993479,  0.03742709,  0.04635158, -0.03371916,\n",
              "          0.01652011, -0.02603432],\n",
              "        [-0.04232537,  0.01262161,  0.03371282, -0.02273496,\n",
              "          0.00209273,  0.03537599, -0.03555327,  0.0016262 ,\n",
              "          0.03883107,  0.04618318],\n",
              "        [ 0.02137238,  0.02417714,  0.02907388,  0.04959274,\n",
              "          0.04593414,  0.02339126,  0.04738996, -0.04320806,\n",
              "          0.04879582,  0.02817048]],\n",
              "\n",
              "       [[ 0.01865378, -0.01250862, -0.04433106, -0.03098797,\n",
              "         -0.02499311, -0.0359871 ,  0.01182093,  0.02826465,\n",
              "          0.00845452,  0.00490402],\n",
              "        [ 0.01865378, -0.01250862, -0.04433106, -0.03098797,\n",
              "         -0.02499311, -0.0359871 ,  0.01182093,  0.02826465,\n",
              "          0.00845452,  0.00490402],\n",
              "        [ 0.01865378, -0.01250862, -0.04433106, -0.03098797,\n",
              "         -0.02499311, -0.0359871 ,  0.01182093,  0.02826465,\n",
              "          0.00845452,  0.00490402],\n",
              "        [ 0.01865378, -0.01250862, -0.04433106, -0.03098797,\n",
              "         -0.02499311, -0.0359871 ,  0.01182093,  0.02826465,\n",
              "          0.00845452,  0.00490402],\n",
              "        [ 0.01865378, -0.01250862, -0.04433106, -0.03098797,\n",
              "         -0.02499311, -0.0359871 ,  0.01182093,  0.02826465,\n",
              "          0.00845452,  0.00490402],\n",
              "        [ 0.01865378, -0.01250862, -0.04433106, -0.03098797,\n",
              "         -0.02499311, -0.0359871 ,  0.01182093,  0.02826465,\n",
              "          0.00845452,  0.00490402],\n",
              "        [-0.02507961,  0.00224849, -0.02595519,  0.0127015 ,\n",
              "          0.0029764 ,  0.00337465, -0.01710813,  0.04771943,\n",
              "         -0.04622346,  0.02736845],\n",
              "        [ 0.02137238,  0.02417714,  0.02907388,  0.04959274,\n",
              "          0.04593414,  0.02339126,  0.04738996, -0.04320806,\n",
              "          0.04879582,  0.02817048],\n",
              "        [-0.04232537,  0.01262161,  0.03371282, -0.02273496,\n",
              "          0.00209273,  0.03537599, -0.03555327,  0.0016262 ,\n",
              "          0.03883107,  0.04618318],\n",
              "        [-0.04232537,  0.01262161,  0.03371282, -0.02273496,\n",
              "          0.00209273,  0.03537599, -0.03555327,  0.0016262 ,\n",
              "          0.03883107,  0.04618318]],\n",
              "\n",
              "       [[ 0.01865378, -0.01250862, -0.04433106, -0.03098797,\n",
              "         -0.02499311, -0.0359871 ,  0.01182093,  0.02826465,\n",
              "          0.00845452,  0.00490402],\n",
              "        [ 0.01865378, -0.01250862, -0.04433106, -0.03098797,\n",
              "         -0.02499311, -0.0359871 ,  0.01182093,  0.02826465,\n",
              "          0.00845452,  0.00490402],\n",
              "        [ 0.01865378, -0.01250862, -0.04433106, -0.03098797,\n",
              "         -0.02499311, -0.0359871 ,  0.01182093,  0.02826465,\n",
              "          0.00845452,  0.00490402],\n",
              "        [ 0.01865378, -0.01250862, -0.04433106, -0.03098797,\n",
              "         -0.02499311, -0.0359871 ,  0.01182093,  0.02826465,\n",
              "          0.00845452,  0.00490402],\n",
              "        [ 0.01865378, -0.01250862, -0.04433106, -0.03098797,\n",
              "         -0.02499311, -0.0359871 ,  0.01182093,  0.02826465,\n",
              "          0.00845452,  0.00490402],\n",
              "        [-0.03372701, -0.04749118,  0.03273717, -0.01166406,\n",
              "          0.04327251,  0.01051944, -0.04091127,  0.01502386,\n",
              "         -0.02953701,  0.01593539],\n",
              "        [ 0.02428499,  0.04346137,  0.03862922, -0.02231177,\n",
              "         -0.04258439, -0.01435224,  0.04739679, -0.04564669,\n",
              "          0.02858306,  0.01150274],\n",
              "        [-0.00584958,  0.02592803,  0.01719112,  0.0328812 ,\n",
              "         -0.0036996 , -0.01005755,  0.04204948,  0.02816241,\n",
              "         -0.01816698, -0.00493633],\n",
              "        [ 0.00870012,  0.03316471, -0.00209368, -0.01787933,\n",
              "         -0.01993479,  0.03742709,  0.04635158, -0.03371916,\n",
              "          0.01652011, -0.02603432],\n",
              "        [-0.01812812,  0.03952256, -0.03478391,  0.02464091,\n",
              "          0.04017809, -0.00884274, -0.03031524, -0.01732992,\n",
              "          0.01696021, -0.03370773]],\n",
              "\n",
              "       [[ 0.01865378, -0.01250862, -0.04433106, -0.03098797,\n",
              "         -0.02499311, -0.0359871 ,  0.01182093,  0.02826465,\n",
              "          0.00845452,  0.00490402],\n",
              "        [ 0.01865378, -0.01250862, -0.04433106, -0.03098797,\n",
              "         -0.02499311, -0.0359871 ,  0.01182093,  0.02826465,\n",
              "          0.00845452,  0.00490402],\n",
              "        [ 0.01865378, -0.01250862, -0.04433106, -0.03098797,\n",
              "         -0.02499311, -0.0359871 ,  0.01182093,  0.02826465,\n",
              "          0.00845452,  0.00490402],\n",
              "        [ 0.01865378, -0.01250862, -0.04433106, -0.03098797,\n",
              "         -0.02499311, -0.0359871 ,  0.01182093,  0.02826465,\n",
              "          0.00845452,  0.00490402],\n",
              "        [ 0.01865378, -0.01250862, -0.04433106, -0.03098797,\n",
              "         -0.02499311, -0.0359871 ,  0.01182093,  0.02826465,\n",
              "          0.00845452,  0.00490402],\n",
              "        [-0.03372701, -0.04749118,  0.03273717, -0.01166406,\n",
              "          0.04327251,  0.01051944, -0.04091127,  0.01502386,\n",
              "         -0.02953701,  0.01593539],\n",
              "        [ 0.02428499,  0.04346137,  0.03862922, -0.02231177,\n",
              "         -0.04258439, -0.01435224,  0.04739679, -0.04564669,\n",
              "          0.02858306,  0.01150274],\n",
              "        [-0.00584958,  0.02592803,  0.01719112,  0.0328812 ,\n",
              "         -0.0036996 , -0.01005755,  0.04204948,  0.02816241,\n",
              "         -0.01816698, -0.00493633],\n",
              "        [ 0.00870012,  0.03316471, -0.00209368, -0.01787933,\n",
              "         -0.01993479,  0.03742709,  0.04635158, -0.03371916,\n",
              "          0.01652011, -0.02603432],\n",
              "        [-0.01096929, -0.02055607,  0.00802277,  0.01605735,\n",
              "          0.04385934, -0.00889791,  0.00282107, -0.01891382,\n",
              "         -0.00469229, -0.00035679]],\n",
              "\n",
              "       [[ 0.01865378, -0.01250862, -0.04433106, -0.03098797,\n",
              "         -0.02499311, -0.0359871 ,  0.01182093,  0.02826465,\n",
              "          0.00845452,  0.00490402],\n",
              "        [ 0.01865378, -0.01250862, -0.04433106, -0.03098797,\n",
              "         -0.02499311, -0.0359871 ,  0.01182093,  0.02826465,\n",
              "          0.00845452,  0.00490402],\n",
              "        [ 0.01865378, -0.01250862, -0.04433106, -0.03098797,\n",
              "         -0.02499311, -0.0359871 ,  0.01182093,  0.02826465,\n",
              "          0.00845452,  0.00490402],\n",
              "        [ 0.01865378, -0.01250862, -0.04433106, -0.03098797,\n",
              "         -0.02499311, -0.0359871 ,  0.01182093,  0.02826465,\n",
              "          0.00845452,  0.00490402],\n",
              "        [ 0.01865378, -0.01250862, -0.04433106, -0.03098797,\n",
              "         -0.02499311, -0.0359871 ,  0.01182093,  0.02826465,\n",
              "          0.00845452,  0.00490402],\n",
              "        [-0.02507961,  0.00224849, -0.02595519,  0.0127015 ,\n",
              "          0.0029764 ,  0.00337465, -0.01710813,  0.04771943,\n",
              "         -0.04622346,  0.02736845],\n",
              "        [-0.02507961,  0.00224849, -0.02595519,  0.0127015 ,\n",
              "          0.0029764 ,  0.00337465, -0.01710813,  0.04771943,\n",
              "         -0.04622346,  0.02736845],\n",
              "        [-0.01076763, -0.00398333, -0.03233448, -0.00591351,\n",
              "         -0.03600531,  0.02014318,  0.02370513, -0.04181994,\n",
              "          0.00343003,  0.002508  ],\n",
              "        [-0.04232537,  0.01262161,  0.03371282, -0.02273496,\n",
              "          0.00209273,  0.03537599, -0.03555327,  0.0016262 ,\n",
              "          0.03883107,  0.04618318],\n",
              "        [-0.00584958,  0.02592803,  0.01719112,  0.0328812 ,\n",
              "         -0.0036996 , -0.01005755,  0.04204948,  0.02816241,\n",
              "         -0.01816698, -0.00493633]],\n",
              "\n",
              "       [[ 0.01865378, -0.01250862, -0.04433106, -0.03098797,\n",
              "         -0.02499311, -0.0359871 ,  0.01182093,  0.02826465,\n",
              "          0.00845452,  0.00490402],\n",
              "        [ 0.01865378, -0.01250862, -0.04433106, -0.03098797,\n",
              "         -0.02499311, -0.0359871 ,  0.01182093,  0.02826465,\n",
              "          0.00845452,  0.00490402],\n",
              "        [ 0.01865378, -0.01250862, -0.04433106, -0.03098797,\n",
              "         -0.02499311, -0.0359871 ,  0.01182093,  0.02826465,\n",
              "          0.00845452,  0.00490402],\n",
              "        [ 0.01865378, -0.01250862, -0.04433106, -0.03098797,\n",
              "         -0.02499311, -0.0359871 ,  0.01182093,  0.02826465,\n",
              "          0.00845452,  0.00490402],\n",
              "        [ 0.01865378, -0.01250862, -0.04433106, -0.03098797,\n",
              "         -0.02499311, -0.0359871 ,  0.01182093,  0.02826465,\n",
              "          0.00845452,  0.00490402],\n",
              "        [ 0.01865378, -0.01250862, -0.04433106, -0.03098797,\n",
              "         -0.02499311, -0.0359871 ,  0.01182093,  0.02826465,\n",
              "          0.00845452,  0.00490402],\n",
              "        [ 0.00956786, -0.04442351, -0.03765219, -0.03176051,\n",
              "         -0.0255962 , -0.02377324, -0.02543207, -0.01150995,\n",
              "         -0.04349528,  0.01537824],\n",
              "        [-0.04678544, -0.02055529,  0.03056917, -0.04275703,\n",
              "         -0.03873248, -0.00062444,  0.04443507,  0.04881256,\n",
              "         -0.0184168 , -0.03469499],\n",
              "        [-0.00584958,  0.02592803,  0.01719112,  0.0328812 ,\n",
              "         -0.0036996 , -0.01005755,  0.04204948,  0.02816241,\n",
              "         -0.01816698, -0.00493633],\n",
              "        [ 0.00870012,  0.03316471, -0.00209368, -0.01787933,\n",
              "         -0.01993479,  0.03742709,  0.04635158, -0.03371916,\n",
              "          0.01652011, -0.02603432]]], dtype=float32)"
            ]
          },
          "metadata": {},
          "execution_count": 57
        }
      ]
    },
    {
      "cell_type": "code",
      "source": [
        "embedded_docs[0]"
      ],
      "metadata": {
        "colab": {
          "base_uri": "https://localhost:8080/"
        },
        "id": "ZhJtb9sYEco9",
        "outputId": "61ce7900-62b8-47c6-fb46-6423b46ed80c"
      },
      "execution_count": 59,
      "outputs": [
        {
          "output_type": "execute_result",
          "data": {
            "text/plain": [
              "array([ 0,  0,  0,  0,  0,  0, 14,  9,  6, 14], dtype=int32)"
            ]
          },
          "metadata": {},
          "execution_count": 59
        }
      ]
    },
    {
      "cell_type": "code",
      "source": [
        "model.predict(embedded_docs[0])"
      ],
      "metadata": {
        "colab": {
          "base_uri": "https://localhost:8080/"
        },
        "id": "SszUIFBHEIVs",
        "outputId": "74e59cf8-2e47-48be-abdb-52e8934600f5"
      },
      "execution_count": 58,
      "outputs": [
        {
          "output_type": "stream",
          "name": "stdout",
          "text": [
            "1/1 [==============================] - 0s 36ms/step\n"
          ]
        },
        {
          "output_type": "execute_result",
          "data": {
            "text/plain": [
              "array([[ 0.01865378, -0.01250862, -0.04433106, -0.03098797, -0.02499311,\n",
              "        -0.0359871 ,  0.01182093,  0.02826465,  0.00845452,  0.00490402],\n",
              "       [ 0.01865378, -0.01250862, -0.04433106, -0.03098797, -0.02499311,\n",
              "        -0.0359871 ,  0.01182093,  0.02826465,  0.00845452,  0.00490402],\n",
              "       [ 0.01865378, -0.01250862, -0.04433106, -0.03098797, -0.02499311,\n",
              "        -0.0359871 ,  0.01182093,  0.02826465,  0.00845452,  0.00490402],\n",
              "       [ 0.01865378, -0.01250862, -0.04433106, -0.03098797, -0.02499311,\n",
              "        -0.0359871 ,  0.01182093,  0.02826465,  0.00845452,  0.00490402],\n",
              "       [ 0.01865378, -0.01250862, -0.04433106, -0.03098797, -0.02499311,\n",
              "        -0.0359871 ,  0.01182093,  0.02826465,  0.00845452,  0.00490402],\n",
              "       [ 0.01865378, -0.01250862, -0.04433106, -0.03098797, -0.02499311,\n",
              "        -0.0359871 ,  0.01182093,  0.02826465,  0.00845452,  0.00490402],\n",
              "       [-0.02507961,  0.00224849, -0.02595519,  0.0127015 ,  0.0029764 ,\n",
              "         0.00337465, -0.01710813,  0.04771943, -0.04622346,  0.02736845],\n",
              "       [ 0.00870012,  0.03316471, -0.00209368, -0.01787933, -0.01993479,\n",
              "         0.03742709,  0.04635158, -0.03371916,  0.01652011, -0.02603432],\n",
              "       [-0.04232537,  0.01262161,  0.03371282, -0.02273496,  0.00209273,\n",
              "         0.03537599, -0.03555327,  0.0016262 ,  0.03883107,  0.04618318],\n",
              "       [-0.02507961,  0.00224849, -0.02595519,  0.0127015 ,  0.0029764 ,\n",
              "         0.00337465, -0.01710813,  0.04771943, -0.04622346,  0.02736845]],\n",
              "      dtype=float32)"
            ]
          },
          "metadata": {},
          "execution_count": 58
        }
      ]
    },
    {
      "cell_type": "code",
      "source": [],
      "metadata": {
        "id": "C5MLJLDjEN0U"
      },
      "execution_count": null,
      "outputs": []
    }
  ]
}