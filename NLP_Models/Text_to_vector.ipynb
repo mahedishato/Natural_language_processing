{
  "nbformat": 4,
  "nbformat_minor": 0,
  "metadata": {
    "colab": {
      "provenance": []
    },
    "kernelspec": {
      "name": "python3",
      "display_name": "Python 3"
    },
    "language_info": {
      "name": "python"
    }
  },
  "cells": [
    {
      "cell_type": "code",
      "source": [
        "from keras.preprocessing.text import Tokenizer\n",
        "tokenizer = Tokenizer(oov_token='<nothing>')"
      ],
      "metadata": {
        "id": "pOJzJ3vzUOkh"
      },
      "execution_count": 1,
      "outputs": []
    },
    {
      "cell_type": "code",
      "source": [
        "import numpy as np\n",
        "from keras.datasets import imdb\n",
        "from keras import Sequential\n",
        "from keras.layers import Dense,SimpleRNN,Embedding,Flatten"
      ],
      "metadata": {
        "id": "gJ_Kt_gYVwSC"
      },
      "execution_count": 2,
      "outputs": []
    },
    {
      "cell_type": "code",
      "source": [
        "(X_train,y_train),(X_test,y_test) = imdb.load_data()"
      ],
      "metadata": {
        "id": "SRAkXp17V2uQ"
      },
      "execution_count": 3,
      "outputs": []
    },
    {
      "cell_type": "code",
      "source": [
        "X_train[0]"
      ],
      "metadata": {
        "id": "mU9B8y8kV6mJ"
      },
      "execution_count": null,
      "outputs": []
    },
    {
      "cell_type": "code",
      "source": [
        "len(X_train[2])"
      ],
      "metadata": {
        "colab": {
          "base_uri": "https://localhost:8080/"
        },
        "id": "KV5Vk14cWDAJ",
        "outputId": "c91e308f-5efe-4ed9-e52d-fea1e1a3557e"
      },
      "execution_count": 5,
      "outputs": [
        {
          "output_type": "execute_result",
          "data": {
            "text/plain": [
              "141"
            ]
          },
          "metadata": {},
          "execution_count": 5
        }
      ]
    },
    {
      "cell_type": "code",
      "source": [
        "from keras.utils import pad_sequences\n",
        "X_train = pad_sequences(X_train,padding='post',maxlen=50)\n",
        "X_test = pad_sequences(X_test,padding='post',maxlen=50)"
      ],
      "metadata": {
        "id": "TapXcMe_WM_Z"
      },
      "execution_count": 6,
      "outputs": []
    },
    {
      "cell_type": "code",
      "source": [
        "len(X_train[2])"
      ],
      "metadata": {
        "colab": {
          "base_uri": "https://localhost:8080/"
        },
        "id": "5P5G9srNWazo",
        "outputId": "d83d0312-89b0-4d10-c1a3-1d289cf2b49a"
      },
      "execution_count": 7,
      "outputs": [
        {
          "output_type": "execute_result",
          "data": {
            "text/plain": [
              "50"
            ]
          },
          "metadata": {},
          "execution_count": 7
        }
      ]
    },
    {
      "cell_type": "code",
      "source": [
        "len(X_train[7])"
      ],
      "metadata": {
        "colab": {
          "base_uri": "https://localhost:8080/"
        },
        "id": "4YBsq3PMWcc4",
        "outputId": "0b7016df-ac65-4c47-9814-3727b2ca565e"
      },
      "execution_count": 8,
      "outputs": [
        {
          "output_type": "execute_result",
          "data": {
            "text/plain": [
              "50"
            ]
          },
          "metadata": {},
          "execution_count": 8
        }
      ]
    },
    {
      "cell_type": "code",
      "source": [
        "X_train[0]"
      ],
      "metadata": {
        "colab": {
          "base_uri": "https://localhost:8080/"
        },
        "id": "XGG0pNOjWfHI",
        "outputId": "5ffc6067-c8ca-4b3f-c926-fd713f9d3cf5"
      },
      "execution_count": 9,
      "outputs": [
        {
          "output_type": "execute_result",
          "data": {
            "text/plain": [
              "array([2071,   56,   26,  141,    6,  194, 7486,   18,    4,  226,   22,\n",
              "         21,  134,  476,   26,  480,    5,  144,   30, 5535,   18,   51,\n",
              "         36,   28,  224,   92,   25,  104,    4,  226,   65,   16,   38,\n",
              "       1334,   88,   12,   16,  283,    5,   16, 4472,  113,  103,   32,\n",
              "         15,   16, 5345,   19,  178,   32], dtype=int32)"
            ]
          },
          "metadata": {},
          "execution_count": 9
        }
      ]
    },
    {
      "cell_type": "code",
      "source": [
        "X_test.shape"
      ],
      "metadata": {
        "colab": {
          "base_uri": "https://localhost:8080/"
        },
        "id": "kG3akgX8WiiQ",
        "outputId": "1b3b8418-d67e-4183-81a9-dfaf74068a18"
      },
      "execution_count": 10,
      "outputs": [
        {
          "output_type": "execute_result",
          "data": {
            "text/plain": [
              "(25000, 50)"
            ]
          },
          "metadata": {},
          "execution_count": 10
        }
      ]
    },
    {
      "cell_type": "code",
      "source": [
        "X_train.shape"
      ],
      "metadata": {
        "colab": {
          "base_uri": "https://localhost:8080/"
        },
        "id": "FnkcMvobWmW_",
        "outputId": "f44e52c3-08a6-4b1d-f00e-4d3e725c20fa"
      },
      "execution_count": 11,
      "outputs": [
        {
          "output_type": "execute_result",
          "data": {
            "text/plain": [
              "(25000, 50)"
            ]
          },
          "metadata": {},
          "execution_count": 11
        }
      ]
    },
    {
      "cell_type": "code",
      "source": [
        "y_train.shape"
      ],
      "metadata": {
        "colab": {
          "base_uri": "https://localhost:8080/"
        },
        "id": "hnyneXuTWwxo",
        "outputId": "49527f5d-8638-414a-de58-610337abb402"
      },
      "execution_count": 12,
      "outputs": [
        {
          "output_type": "execute_result",
          "data": {
            "text/plain": [
              "(25000,)"
            ]
          },
          "metadata": {},
          "execution_count": 12
        }
      ]
    },
    {
      "cell_type": "code",
      "source": [
        "y_test.shape"
      ],
      "metadata": {
        "colab": {
          "base_uri": "https://localhost:8080/"
        },
        "id": "VFWRKN6IW72J",
        "outputId": "309c5ca9-c82d-4945-db8d-75f468a020aa"
      },
      "execution_count": 13,
      "outputs": [
        {
          "output_type": "execute_result",
          "data": {
            "text/plain": [
              "(25000,)"
            ]
          },
          "metadata": {},
          "execution_count": 13
        }
      ]
    },
    {
      "cell_type": "code",
      "source": [
        "model = Sequential()\n",
        "model.add(Embedding(10000,output_dim=2,input_length=50))\n",
        "model.add(SimpleRNN(32,input_shape=(50,1),return_sequences=False))\n",
        "model.add(Dense(1,activation='sigmoid'))\n",
        "\n",
        "model.summary()"
      ],
      "metadata": {
        "colab": {
          "base_uri": "https://localhost:8080/"
        },
        "id": "J9zS4e2lW_0p",
        "outputId": "8e94f741-3ca6-4d47-a6e5-b293cd41cdaa"
      },
      "execution_count": 14,
      "outputs": [
        {
          "output_type": "stream",
          "name": "stdout",
          "text": [
            "Model: \"sequential\"\n",
            "_________________________________________________________________\n",
            " Layer (type)                Output Shape              Param #   \n",
            "=================================================================\n",
            " embedding (Embedding)       (None, 50, 2)             20000     \n",
            "                                                                 \n",
            " simple_rnn (SimpleRNN)      (None, 32)                1120      \n",
            "                                                                 \n",
            " dense (Dense)               (None, 1)                 33        \n",
            "                                                                 \n",
            "=================================================================\n",
            "Total params: 21,153\n",
            "Trainable params: 21,153\n",
            "Non-trainable params: 0\n",
            "_________________________________________________________________\n"
          ]
        }
      ]
    },
    {
      "cell_type": "code",
      "source": [
        "!pip install tensorflow==2.9.1"
      ],
      "metadata": {
        "id": "DAHTeK-4Z65c"
      },
      "execution_count": null,
      "outputs": []
    },
    {
      "cell_type": "code",
      "source": [
        "model.compile(loss='binary_crossentropy',optimizer='adam',metrics=['accuracy'])\n",
        "model.fit(X_train,y_train,epochs=5,steps_per_epoch=len(X_train),validation_data=(X_test,y_test))"
      ],
      "metadata": {
        "id": "AqAWq_XrYWqY"
      },
      "execution_count": null,
      "outputs": []
    },
    {
      "cell_type": "code",
      "source": [
        "import numpy as np\n",
        "\n",
        "docs = ['go bangladesh',\n",
        "\t\t'bangladesh bangladesh',\n",
        "\t\t'hip hip hurray',\n",
        "\t\t'jitbe bhai jitbe bangladesh jitbe',\n",
        "\t\t'bangladesher joy hobe',\n",
        "\t\t'sakib sakib',\n",
        "\t\t'miraz miraz',\n",
        "\t\t'liton liton',\n",
        "\t\t'pm khela dekhtese',\n",
        "\t\t'bangladesh zindabad']"
      ],
      "metadata": {
        "id": "6fCUiUWsYirZ"
      },
      "execution_count": 48,
      "outputs": []
    },
    {
      "cell_type": "code",
      "source": [
        "tokenizer.fit_on_texts(docs)"
      ],
      "metadata": {
        "id": "O_-DJFfga0Rq"
      },
      "execution_count": 49,
      "outputs": []
    },
    {
      "cell_type": "code",
      "source": [
        "from tensorflow.keras.preprocessing.text import one_hot"
      ],
      "metadata": {
        "id": "r29sVTBufJ9N"
      },
      "execution_count": 58,
      "outputs": []
    },
    {
      "cell_type": "code",
      "source": [
        "one_hot= [one_hot(words,20)for words in docs]"
      ],
      "metadata": {
        "id": "3bho_mSrfXUT"
      },
      "execution_count": 61,
      "outputs": []
    },
    {
      "cell_type": "code",
      "source": [
        "one_hot"
      ],
      "metadata": {
        "colab": {
          "base_uri": "https://localhost:8080/"
        },
        "id": "0SaCUGb6fXRD",
        "outputId": "6e926049-0a92-4811-ec30-acf15c3dffa0"
      },
      "execution_count": 62,
      "outputs": [
        {
          "output_type": "execute_result",
          "data": {
            "text/plain": [
              "[[9, 4],\n",
              " [4, 4],\n",
              " [14, 14, 15],\n",
              " [17, 13, 17, 4, 17],\n",
              " [14, 12, 17],\n",
              " [18, 18],\n",
              " [15, 15],\n",
              " [2, 2],\n",
              " [19, 7, 17],\n",
              " [4, 16]]"
            ]
          },
          "metadata": {},
          "execution_count": 62
        }
      ]
    },
    {
      "cell_type": "code",
      "source": [
        "sent_len = 10\n",
        "embedded_docs = pad_sequences(one_hot,maxlen=sent_len,padding='pre')\n"
      ],
      "metadata": {
        "id": "tg_YF9XEfXOK"
      },
      "execution_count": 63,
      "outputs": []
    },
    {
      "cell_type": "code",
      "source": [
        "embedded_docs"
      ],
      "metadata": {
        "colab": {
          "base_uri": "https://localhost:8080/"
        },
        "id": "2F0-xx_wftbr",
        "outputId": "a3cd99f8-13b2-45d4-e2d5-96d59cb1831a"
      },
      "execution_count": 64,
      "outputs": [
        {
          "output_type": "execute_result",
          "data": {
            "text/plain": [
              "array([[ 0,  0,  0,  0,  0,  0,  0,  0,  9,  4],\n",
              "       [ 0,  0,  0,  0,  0,  0,  0,  0,  4,  4],\n",
              "       [ 0,  0,  0,  0,  0,  0,  0, 14, 14, 15],\n",
              "       [ 0,  0,  0,  0,  0, 17, 13, 17,  4, 17],\n",
              "       [ 0,  0,  0,  0,  0,  0,  0, 14, 12, 17],\n",
              "       [ 0,  0,  0,  0,  0,  0,  0,  0, 18, 18],\n",
              "       [ 0,  0,  0,  0,  0,  0,  0,  0, 15, 15],\n",
              "       [ 0,  0,  0,  0,  0,  0,  0,  0,  2,  2],\n",
              "       [ 0,  0,  0,  0,  0,  0,  0, 19,  7, 17],\n",
              "       [ 0,  0,  0,  0,  0,  0,  0,  0,  4, 16]], dtype=int32)"
            ]
          },
          "metadata": {},
          "execution_count": 64
        }
      ]
    },
    {
      "cell_type": "code",
      "source": [
        "model= Sequential()\n",
        "model.add(Embedding(20,5,input_length=sent_len))\n",
        "model.compile('adam', 'mse')"
      ],
      "metadata": {
        "id": "63bkQ3sKfteT"
      },
      "execution_count": 69,
      "outputs": []
    },
    {
      "cell_type": "code",
      "source": [
        "model.predict(embedded_docs)"
      ],
      "metadata": {
        "id": "oKhiBFMZftlc"
      },
      "execution_count": null,
      "outputs": []
    },
    {
      "cell_type": "code",
      "source": [
        "model.predict(embedded_docs[0])"
      ],
      "metadata": {
        "colab": {
          "base_uri": "https://localhost:8080/"
        },
        "id": "E7KUm6vwftoD",
        "outputId": "e6336f47-1a48-4ff0-b861-ffbef8cf2faf"
      },
      "execution_count": 71,
      "outputs": [
        {
          "output_type": "stream",
          "name": "stdout",
          "text": [
            "1/1 [==============================] - 0s 37ms/step\n"
          ]
        },
        {
          "output_type": "execute_result",
          "data": {
            "text/plain": [
              "array([[ 0.00858504,  0.04196269,  0.04282169, -0.00631012, -0.02910385],\n",
              "       [ 0.00858504,  0.04196269,  0.04282169, -0.00631012, -0.02910385],\n",
              "       [ 0.00858504,  0.04196269,  0.04282169, -0.00631012, -0.02910385],\n",
              "       [ 0.00858504,  0.04196269,  0.04282169, -0.00631012, -0.02910385],\n",
              "       [ 0.00858504,  0.04196269,  0.04282169, -0.00631012, -0.02910385],\n",
              "       [ 0.00858504,  0.04196269,  0.04282169, -0.00631012, -0.02910385],\n",
              "       [ 0.00858504,  0.04196269,  0.04282169, -0.00631012, -0.02910385],\n",
              "       [ 0.00858504,  0.04196269,  0.04282169, -0.00631012, -0.02910385],\n",
              "       [ 0.03553635, -0.04449042, -0.00266588,  0.01417453,  0.04095856],\n",
              "       [-0.00664252,  0.00067898, -0.02074164, -0.04695065,  0.02197165]],\n",
              "      dtype=float32)"
            ]
          },
          "metadata": {},
          "execution_count": 71
        }
      ]
    },
    {
      "cell_type": "code",
      "source": [
        "import numpy as np\n",
        "\n",
        "data = ['go bangladesh',\n",
        "\t\t'bangladesh bangladesh',\n",
        "\t\t'hip hip hurray',\n",
        "\t\t'jitbe bhai jitbe bangladesh jitbe',\n",
        "\t\t'bangladesher joy hobe',\n",
        "\t\t'sakib sakib',\n",
        "\t\t'miraz miraz',\n",
        "\t\t'liton liton',\n",
        "\t\t'pm khela dekhtese',\n",
        "\t\t'bangladesh zindabad']"
      ],
      "metadata": {
        "id": "3ZuC0FZQi7bA"
      },
      "execution_count": 72,
      "outputs": []
    },
    {
      "cell_type": "code",
      "source": [
        "tokenizer.fit_on_texts(data)"
      ],
      "metadata": {
        "id": "fxls0WRlkW-j"
      },
      "execution_count": 73,
      "outputs": []
    },
    {
      "cell_type": "code",
      "source": [
        "sequences = tokenizer.texts_to_sequences(data)\n",
        "sequences"
      ],
      "metadata": {
        "colab": {
          "base_uri": "https://localhost:8080/"
        },
        "id": "YD1_gaXikdKv",
        "outputId": "494e149a-661e-4c5a-bdcf-89dc084c1ea8"
      },
      "execution_count": 74,
      "outputs": [
        {
          "output_type": "execute_result",
          "data": {
            "text/plain": [
              "[[8, 2],\n",
              " [2, 2],\n",
              " [4, 4, 9],\n",
              " [3, 10, 3, 2, 3],\n",
              " [11, 12, 13],\n",
              " [5, 5],\n",
              " [6, 6],\n",
              " [7, 7],\n",
              " [14, 15, 16],\n",
              " [2, 17]]"
            ]
          },
          "metadata": {},
          "execution_count": 74
        }
      ]
    },
    {
      "cell_type": "code",
      "source": [
        "maximumlenth_of_document= 5\n",
        "sequences = pad_sequences(sequences,padding='pre', maxlen=maximumlenth_of_document)"
      ],
      "metadata": {
        "id": "3G2gxfcrkj74"
      },
      "execution_count": 75,
      "outputs": []
    },
    {
      "cell_type": "code",
      "source": [
        "sequences"
      ],
      "metadata": {
        "colab": {
          "base_uri": "https://localhost:8080/"
        },
        "id": "gqTOWD3ok4u_",
        "outputId": "8fa62286-e65e-42ca-9a65-0ed211693d38"
      },
      "execution_count": 76,
      "outputs": [
        {
          "output_type": "execute_result",
          "data": {
            "text/plain": [
              "array([[ 0,  0,  0,  8,  2],\n",
              "       [ 0,  0,  0,  2,  2],\n",
              "       [ 0,  0,  4,  4,  9],\n",
              "       [ 3, 10,  3,  2,  3],\n",
              "       [ 0,  0, 11, 12, 13],\n",
              "       [ 0,  0,  0,  5,  5],\n",
              "       [ 0,  0,  0,  6,  6],\n",
              "       [ 0,  0,  0,  7,  7],\n",
              "       [ 0,  0, 14, 15, 16],\n",
              "       [ 0,  0,  0,  2, 17]], dtype=int32)"
            ]
          },
          "metadata": {},
          "execution_count": 76
        }
      ]
    },
    {
      "cell_type": "code",
      "source": [
        "models= Sequential()\n",
        "models.add(Embedding(10000,10,input_length=maximumlenth_of_document))\n",
        "models.compile('adam', 'mse')"
      ],
      "metadata": {
        "id": "xVU2EJVNk7NX"
      },
      "execution_count": 77,
      "outputs": []
    },
    {
      "cell_type": "code",
      "source": [
        "models.predict(sequences)"
      ],
      "metadata": {
        "id": "V0zUh-0vlUH3"
      },
      "execution_count": null,
      "outputs": []
    },
    {
      "cell_type": "code",
      "source": [
        "models.predict(sequences[0])"
      ],
      "metadata": {
        "colab": {
          "base_uri": "https://localhost:8080/"
        },
        "id": "U8fsYVF6lcon",
        "outputId": "45665a72-0251-4105-88c1-0587abd1a6d1"
      },
      "execution_count": 79,
      "outputs": [
        {
          "output_type": "stream",
          "name": "stderr",
          "text": [
            "WARNING:tensorflow:6 out of the last 6 calls to <function Model.make_predict_function.<locals>.predict_function at 0x7f5aa8cb8a70> triggered tf.function retracing. Tracing is expensive and the excessive number of tracings could be due to (1) creating @tf.function repeatedly in a loop, (2) passing tensors with different shapes, (3) passing Python objects instead of tensors. For (1), please define your @tf.function outside of the loop. For (2), @tf.function has reduce_retracing=True option that can avoid unnecessary retracing. For (3), please refer to https://www.tensorflow.org/guide/function#controlling_retracing and https://www.tensorflow.org/api_docs/python/tf/function for  more details.\n"
          ]
        },
        {
          "output_type": "stream",
          "name": "stdout",
          "text": [
            "1/1 [==============================] - 0s 70ms/step\n"
          ]
        },
        {
          "output_type": "execute_result",
          "data": {
            "text/plain": [
              "array([[-0.00434513,  0.04946568,  0.02676019, -0.0273748 , -0.03880227,\n",
              "        -0.00649433,  0.03395304,  0.02671862, -0.04983112,  0.00773877],\n",
              "       [-0.00434513,  0.04946568,  0.02676019, -0.0273748 , -0.03880227,\n",
              "        -0.00649433,  0.03395304,  0.02671862, -0.04983112,  0.00773877],\n",
              "       [-0.00434513,  0.04946568,  0.02676019, -0.0273748 , -0.03880227,\n",
              "        -0.00649433,  0.03395304,  0.02671862, -0.04983112,  0.00773877],\n",
              "       [ 0.03741587,  0.03745378, -0.02737266,  0.02064489, -0.01188482,\n",
              "        -0.04176688, -0.02558756, -0.00105613,  0.04623229, -0.03512601],\n",
              "       [-0.03020774,  0.01363934, -0.0312997 ,  0.02954752, -0.015693  ,\n",
              "         0.04496196,  0.03770126,  0.04069031,  0.02541341,  0.0465968 ]],\n",
              "      dtype=float32)"
            ]
          },
          "metadata": {},
          "execution_count": 79
        }
      ]
    },
    {
      "cell_type": "code",
      "source": [],
      "metadata": {
        "id": "fuxpBvxXlzmf"
      },
      "execution_count": null,
      "outputs": []
    }
  ]
}