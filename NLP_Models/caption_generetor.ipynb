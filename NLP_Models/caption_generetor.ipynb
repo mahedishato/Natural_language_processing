{
 "cells": [
  {
   "cell_type": "code",
   "execution_count": 59,
   "id": "77779a2d",
   "metadata": {},
   "outputs": [],
   "source": [
    "import pandas as pd\n",
    "import string\n",
    "import numpy as np\n",
    "import json\n",
    "\n",
    "from tensorflow.keras.preprocessing.sequence import pad_sequences\n",
    "\n",
    "#from keras.preprocessing.sequence import pad_sequences\n",
    "from keras.layers import Embedding, LSTM, Dense, Dropout\n",
    "from keras.preprocessing.text import Tokenizer\n",
    "from keras.callbacks import EarlyStopping\n",
    "from keras.models import Sequential\n",
    "import keras.utils as ku\n",
    "\n",
    "import tensorflow as tf\n",
    "tf.random.set_seed(2)\n",
    "from numpy.random import seed\n",
    "seed(1)\n",
    "\n",
    "#load all the datasets \n",
    "df1 = pd.read_csv('Data/USvideos.csv')\n",
    "df2 = pd.read_csv('Data/CAvideos.csv')\n",
    "df3 = pd.read_csv('Data/GBvideos.csv')\n",
    "\n",
    "#load the datasets containing the category names\n",
    "data1 = json.load(open('Data/US_category_id.json'))\n",
    "data2 = json.load(open('Data/CA_category_id.json'))\n",
    "data3 = json.load(open('Data/GB_category_id.json'))"
   ]
  },
  {
   "cell_type": "code",
   "execution_count": 60,
   "id": "a7065f7f",
   "metadata": {},
   "outputs": [],
   "source": [
    "def category_extractor(data):\n",
    "    i_d = [data['items'][i]['id'] for i in range(len(data['items']))]\n",
    "    title = [data['items'][i]['snippet'][\"title\"] for i in range(len(data['items']))]\n",
    "    i_d = list(map(int, i_d))\n",
    "    category = zip(i_d, title)\n",
    "    category = dict(category)\n",
    "    return category\n",
    "\n",
    "#create a new category column by mapping the category names to their id\n",
    "df1['category_title'] = df1['category_id'].map(category_extractor(data1))\n",
    "df2['category_title'] = df2['category_id'].map(category_extractor(data2))\n",
    "df3['category_title'] = df3['category_id'].map(category_extractor(data3))\n",
    "\n",
    "#join the dataframes\n",
    "df = pd.concat([df1, df2, df3], ignore_index=True)\n",
    "\n",
    "#drop rows based on duplicate videos\n",
    "df = df.drop_duplicates('video_id')\n",
    "\n",
    "#collect only titles of entertainment videos\n",
    "#feel free to use any category of video that you want\n",
    "entertainment = df[df['category_title'] == 'Entertainment']['title']\n",
    "entertainment = entertainment.tolist()\n",
    "\n",
    "\n",
    "\n",
    "#remove punctuations and convert text to lowercase\n",
    "def clean_text(text):\n",
    "    text = ''.join(e for e in text if e not in string.punctuation).lower()\n",
    "    \n",
    "    text = text.encode('utf8').decode('ascii', 'ignore')\n",
    "    return text\n",
    "\n",
    "corpus = [clean_text(e) for e in entertainment]"
   ]
  },
  {
   "cell_type": "code",
   "execution_count": 61,
   "id": "873b4145",
   "metadata": {},
   "outputs": [],
   "source": [
    "tokenizer = Tokenizer()\n",
    "def get_sequence_of_tokens(corpus):\n",
    "  #get tokens\n",
    "  tokenizer.fit_on_texts(corpus)\n",
    "  total_words = len(tokenizer.word_index) + 1\n",
    " \n",
    "  #convert to sequence of tokens\n",
    "  input_sequences = []\n",
    "  for line in corpus:\n",
    "      token_list = tokenizer.texts_to_sequences([line])[0]\n",
    "  for i in range(1, len(token_list)):\n",
    "      n_gram_sequence = token_list[:i+1]\n",
    "      input_sequences.append(n_gram_sequence)\n",
    " \n",
    "      return input_sequences, total_words\n",
    "inp_sequences, total_words = get_sequence_of_tokens(corpus)"
   ]
  },
  {
   "cell_type": "code",
   "execution_count": 62,
   "id": "7c26fa31",
   "metadata": {},
   "outputs": [],
   "source": [
    "def generate_padded_sequences(input_sequences):\n",
    "  max_sequence_len = max([len(x) for x in input_sequences])\n",
    "  input_sequences = np.array(pad_sequences(input_sequences,  maxlen=max_sequence_len, padding='pre'))\n",
    "  predictors, label = input_sequences[:,:-1], input_sequences[:, -1]\n",
    "  label = ku.to_categorical(label, num_classes = total_words)\n",
    "  return predictors, label, max_sequence_len\n",
    "predictors, label, max_sequence_len = generate_padded_sequences(inp_sequences)"
   ]
  },
  {
   "cell_type": "code",
   "execution_count": 63,
   "id": "4c3f98ab",
   "metadata": {},
   "outputs": [
    {
     "data": {
      "text/plain": [
       "2"
      ]
     },
     "execution_count": 63,
     "metadata": {},
     "output_type": "execute_result"
    }
   ],
   "source": [
    "max_sequence_len"
   ]
  },
  {
   "cell_type": "code",
   "execution_count": 64,
   "id": "bfab46ee",
   "metadata": {},
   "outputs": [
    {
     "data": {
      "text/plain": [
       "(1, 13915)"
      ]
     },
     "execution_count": 64,
     "metadata": {},
     "output_type": "execute_result"
    }
   ],
   "source": [
    "label.shape"
   ]
  },
  {
   "cell_type": "code",
   "execution_count": 68,
   "id": "db2693fa",
   "metadata": {},
   "outputs": [
    {
     "name": "stdout",
     "output_type": "stream",
     "text": [
      "Epoch 1/20\n",
      "WARNING:tensorflow:Model was constructed with shape (None, 6) for input KerasTensor(type_spec=TensorSpec(shape=(None, 6), dtype=tf.float32, name='embedding_8_input'), name='embedding_8_input', description=\"created by layer 'embedding_8_input'\"), but it was called on an input with incompatible shape (None, 1).\n",
      "WARNING:tensorflow:Model was constructed with shape (None, 6) for input KerasTensor(type_spec=TensorSpec(shape=(None, 6), dtype=tf.float32, name='embedding_8_input'), name='embedding_8_input', description=\"created by layer 'embedding_8_input'\"), but it was called on an input with incompatible shape (None, 1).\n",
      "1/1 [==============================] - 3s 3s/step - loss: 9.5408\n",
      "Epoch 2/20\n",
      "1/1 [==============================] - 0s 21ms/step - loss: 9.5386\n",
      "Epoch 3/20\n",
      "1/1 [==============================] - 0s 22ms/step - loss: 9.5363\n",
      "Epoch 4/20\n",
      "1/1 [==============================] - 0s 26ms/step - loss: 9.5338\n",
      "Epoch 5/20\n",
      "1/1 [==============================] - 0s 30ms/step - loss: 9.5316\n",
      "Epoch 6/20\n",
      "1/1 [==============================] - 0s 25ms/step - loss: 9.5291\n",
      "Epoch 7/20\n",
      "1/1 [==============================] - 0s 31ms/step - loss: 9.5267\n",
      "Epoch 8/20\n",
      "1/1 [==============================] - 0s 32ms/step - loss: 9.5243\n",
      "Epoch 9/20\n",
      "1/1 [==============================] - 0s 22ms/step - loss: 9.5217\n",
      "Epoch 10/20\n",
      "1/1 [==============================] - 0s 27ms/step - loss: 9.5189\n",
      "Epoch 11/20\n",
      "1/1 [==============================] - 0s 31ms/step - loss: 9.5165\n",
      "Epoch 12/20\n",
      "1/1 [==============================] - 0s 22ms/step - loss: 9.5137\n",
      "Epoch 13/20\n",
      "1/1 [==============================] - 0s 24ms/step - loss: 9.5108\n",
      "Epoch 14/20\n",
      "1/1 [==============================] - 0s 29ms/step - loss: 9.5084\n",
      "Epoch 15/20\n",
      "1/1 [==============================] - 0s 29ms/step - loss: 9.5054\n",
      "Epoch 16/20\n",
      "1/1 [==============================] - 0s 28ms/step - loss: 9.5024\n",
      "Epoch 17/20\n",
      "1/1 [==============================] - 0s 26ms/step - loss: 9.4994\n",
      "Epoch 18/20\n",
      "1/1 [==============================] - 0s 28ms/step - loss: 9.4962\n",
      "Epoch 19/20\n",
      "1/1 [==============================] - 0s 28ms/step - loss: 9.4929\n",
      "Epoch 20/20\n",
      "1/1 [==============================] - 0s 31ms/step - loss: 9.4888\n"
     ]
    },
    {
     "data": {
      "text/plain": [
       "<keras.callbacks.History at 0x22b7480a460>"
      ]
     },
     "execution_count": 68,
     "metadata": {},
     "output_type": "execute_result"
    }
   ],
   "source": [
    "def create_model(max_sequence_len, total_words):\n",
    "  input_len = max_sequence_len -10\n",
    "  model = Sequential()\n",
    " \n",
    "  # Add Input Embedding Layer\n",
    "  model.add(Embedding(total_words, 5, input_length=6))\n",
    " \n",
    "  # Add Hidden Layer 1 — LSTM Layer\n",
    "  model.add(LSTM(100))\n",
    "  model.add(Dropout(0.1))\n",
    " \n",
    "  # Add Output Layer\n",
    "  model.add(Dense(total_words, activation='softmax'))\n",
    "  model.compile(loss='categorical_crossentropy', optimizer='adam')\n",
    " \n",
    "  return model\n",
    "model = create_model(max_sequence_len, total_words)\n",
    "model.fit(predictors, label, epochs=20, verbose='auto')"
   ]
  },
  {
   "cell_type": "code",
   "execution_count": 69,
   "id": "171abea0",
   "metadata": {},
   "outputs": [],
   "source": [
    "def generate_text(seed_text, next_words, model, max_sequence_len):\n",
    "  for _ in range(next_words):\n",
    "      token_list = tokenizer.texts_to_sequences([seed_text])[0]\n",
    "      token_list = pad_sequences([token_list], maxlen=max_sequence_len-1,  padding='pre')\n",
    "      #predicted = model.predict_classes(token_list, verbose=0)\n",
    "      predicted = np.argmax(model.predict(token_list,verbose=0),axis=1)\n",
    " \n",
    "  output_word = \"\"\n",
    "  for word,index in tokenizer.word_index.items():\n",
    "      if index == predicted:\n",
    "          output_word = word\n",
    "      break\n",
    "  seed_text += '' +output_word\n",
    "  return seed_text.title()"
   ]
  },
  {
   "cell_type": "code",
   "execution_count": 70,
   "id": "a52245e6",
   "metadata": {},
   "outputs": [
    {
     "name": "stdout",
     "output_type": "stream",
     "text": [
      "WARNING:tensorflow:Model was constructed with shape (None, 6) for input KerasTensor(type_spec=TensorSpec(shape=(None, 6), dtype=tf.float32, name='embedding_8_input'), name='embedding_8_input', description=\"created by layer 'embedding_8_input'\"), but it was called on an input with incompatible shape (None, 1).\n",
      "Spiderman\n"
     ]
    }
   ],
   "source": [
    "print(generate_text('spiderman', 5, model, max_sequence_len))"
   ]
  },
  {
   "cell_type": "code",
   "execution_count": null,
   "id": "c3035e36",
   "metadata": {},
   "outputs": [],
   "source": []
  }
 ],
 "metadata": {
  "kernelspec": {
   "display_name": "Python 3 (ipykernel)",
   "language": "python",
   "name": "python3"
  },
  "language_info": {
   "codemirror_mode": {
    "name": "ipython",
    "version": 3
   },
   "file_extension": ".py",
   "mimetype": "text/x-python",
   "name": "python",
   "nbconvert_exporter": "python",
   "pygments_lexer": "ipython3",
   "version": "3.9.12"
  }
 },
 "nbformat": 4,
 "nbformat_minor": 5
}
